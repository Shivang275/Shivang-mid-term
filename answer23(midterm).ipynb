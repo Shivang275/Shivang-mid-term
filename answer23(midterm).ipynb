{
 "cells": [
  {
   "cell_type": "code",
   "execution_count": null,
   "metadata": {
    "collapsed": true
   },
   "outputs": [],
   "source": [
    "#answer 23\n",
    "def tough(indent, n):\n",
    "    if n <= 0:\n",
    "        return\n",
    "\n",
    "    # Print the first half of the pattern\n",
    "    print(\" \" * indent + \"*\" * n)\n",
    "\n",
    "    # To print the inner pattern with smaller n\n",
    "    tough(indent + 1, n - 1)\n",
    "\n",
    "    # Print the second half of the pattern\n",
    "    print(\" \" * indent + \"*\" * n)\n",
    "\n",
    "# Test the function \n",
    "\n",
    "tough(0, 0)  # No output\n",
    "print()\n",
    "tough(0, 1)  # Output: *\n",
    "print()\n",
    "tough(0, 2)  \n",
    "# Output:\n",
    "# **\n",
    "#  *\n",
    "#  *\n",
    "# **\n",
    "print()\n",
    "tough(0, 4)  \n",
    "# Output:\n",
    "# ****\n",
    "#  ***\n",
    "#   **\n",
    "#    *\n",
    "#    *\n",
    "#   **\n",
    "#  ***\n",
    "# ****\n"
   ]
  },
  {
   "cell_type": "code",
   "execution_count": null,
   "metadata": {
    "collapsed": true
   },
   "outputs": [],
   "source": []
  }
 ],
 "metadata": {
  "kernelspec": {
   "display_name": "Python 3",
   "language": "python",
   "name": "python3"
  },
  "language_info": {
   "codemirror_mode": {
    "name": "ipython",
    "version": 3
   },
   "file_extension": ".py",
   "mimetype": "text/x-python",
   "name": "python",
   "nbconvert_exporter": "python",
   "pygments_lexer": "ipython3",
   "version": "3.6.3"
  }
 },
 "nbformat": 4,
 "nbformat_minor": 2
}
