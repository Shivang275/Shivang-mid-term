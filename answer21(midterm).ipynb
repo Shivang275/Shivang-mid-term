{
 "cells": [
  {
   "cell_type": "code",
   "execution_count": null,
   "metadata": {
    "collapsed": true
   },
   "outputs": [],
   "source": [
    "#Answer 21\n",
    "import math\n",
    "\n",
    "class Point:\n",
    "    def __init__(self, x=0, y=0):\n",
    "        \"\"\"Constructor for the Point class.\"\"\"\n",
    "        self.x = x\n",
    "        self.y = y\n",
    "\n",
    "class Segment:\n",
    "    def __init__(self, point1, point2):\n",
    "        \"\"\"Constructor that takes two Point objects.\"\"\"\n",
    "        self.point1 = point1\n",
    "        self.point2 = point2\n",
    "\n",
    "    def length(self):\n",
    "        \"\"\"Returns the length of the segment.\"\"\"\n",
    "        return math.sqrt((self.point2.x - self.point1.x) ** 2 + (self.point2.y - self.point1.y) ** 2)\n",
    "\n",
    "    def slope(self):\n",
    "        \"\"\"Returns the slope of the segment or None if the slope is undefined.\"\"\"\n",
    "        try:\n",
    "            return (self.point2.y - self.point1.y) / (self.point2.x - self.point1.x)\n",
    "        except ZeroDivisionError:\n",
    "            return None  # Slope is undefined if division by zero occurs.\n",
    "\n",
    "# Example :\n",
    "p1 = Point(3, 4)\n",
    "p2 = Point()  # Defaults to (0, 0)\n",
    "s = Segment(p1, p2)\n",
    "\n",
    "print(s.length())  # Output: 5.0\n",
    "print(s.slope())   # Output: 0.75\n"
   ]
  }
 ],
 "metadata": {
  "kernelspec": {
   "display_name": "Python 3",
   "language": "python",
   "name": "python3"
  },
  "language_info": {
   "codemirror_mode": {
    "name": "ipython",
    "version": 3
   },
   "file_extension": ".py",
   "mimetype": "text/x-python",
   "name": "python",
   "nbconvert_exporter": "python",
   "pygments_lexer": "ipython3",
   "version": "3.6.3"
  }
 },
 "nbformat": 4,
 "nbformat_minor": 2
}
